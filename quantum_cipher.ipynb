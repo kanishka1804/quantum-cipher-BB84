{
  "nbformat": 4,
  "nbformat_minor": 0,
  "metadata": {
    "colab": {
      "provenance": []
    },
    "kernelspec": {
      "name": "python3",
      "display_name": "Python 3"
    },
    "language_info": {
      "name": "python"
    }
  },
  "cells": [
    {
      "cell_type": "code",
      "execution_count": null,
      "metadata": {
        "collapsed": true,
        "id": "SHB3-o1IstZu"
      },
      "outputs": [],
      "source": [
        "!pip install qiskit\n",
        "!pip install matplotlib\n"
      ]
    },
    {
      "cell_type": "markdown",
      "source": [
        "\n",
        "A qubit can be in:\n",
        "- `|0⟩` → 0 in Z-basis\n",
        "- `|1⟩` → 1 in Z-basis\n",
        "- `|+⟩` → 0 in X-basis\n",
        "- `|−⟩` → 1 in X-basis\n",
        "\n",
        "**Formulas**:\n",
        "- **Z-basis**:  \n",
        "\n",
        "  $$\n",
        "  |0\\rangle = \\begin{bmatrix}1 \\\\ 0\\end{bmatrix}, \\quad |1\\rangle = \\begin{bmatrix}0 \\\\ 1\\end{bmatrix}\n",
        "  $$\n",
        "\n",
        "- **X-basis**:  \n",
        "\n",
        "  $$\n",
        "  |+\\rangle = \\frac{|0\\rangle + |1\\rangle}{\\sqrt{2}}, \\quad |-\\rangle = \\frac{|0\\rangle - |1\\rangle}{\\sqrt{2}}\n",
        "  $$"
      ],
      "metadata": {
        "id": "-oPvR5mqtaCq"
      }
    },
    {
      "cell_type": "code",
      "source": [
        "from qiskit.visualization.bloch import Bloch\n",
        "from qiskit.quantum_info import Statevector\n",
        "from qiskit import QuantumCircuit\n",
        "import numpy as np\n",
        "import matplotlib.pyplot as plt\n",
        "\n",
        "def statevector_to_bloch_vector(state):\n",
        "    \"\"\"Convert a Statevector to a Bloch vector [x, y, z].\"\"\"\n",
        "    rho = np.outer(state.data, np.conj(state.data))  # Density matrix\n",
        "    x = 2 * np.real(rho[0, 1])\n",
        "    y = 2 * np.imag(rho[1, 0])\n",
        "    z = np.real(rho[0, 0] - rho[1, 1])\n",
        "    return [x, y, z]\n",
        "\n",
        "def plot_bloch_state(bit, basis, qubit_index):\n",
        "    qc = QuantumCircuit(1)\n",
        "\n",
        "    # Prepare the qubit state\n",
        "    if basis == 'Z':\n",
        "        if bit == 1:\n",
        "            qc.x(0)\n",
        "    elif basis == 'X':\n",
        "        qc.h(0)\n",
        "        if bit == 1:\n",
        "            qc.z(0)\n",
        "\n",
        "    # Get statevector and convert to Bloch coordinates\n",
        "    state = Statevector.from_instruction(qc)\n",
        "    bloch_vec = statevector_to_bloch_vector(state)\n",
        "\n",
        "    # Plot on Bloch sphere\n",
        "    bloch = Bloch()\n",
        "    bloch.add_vectors(bloch_vec)\n",
        "    bloch.title = f\"Qubit {qubit_index+1} | Bit={bit}, Basis={basis}\"\n",
        "    bloch.show()\n",
        "\n",
        "# Example: Plot first 5 qubits from Alice's data\n",
        "for i in range(min(5, len(alice_bits))):\n",
        "    plot_bloch_state(alice_bits[i], alice_bases[i], i)\n",
        "\n"
      ],
      "metadata": {
        "id": "v3_dClTe4eVE"
      },
      "execution_count": null,
      "outputs": []
    },
    {
      "cell_type": "markdown",
      "source": [
        "\n",
        "\n",
        "- **Hadamard Gate (H):**\n",
        "  $$\n",
        "  H = \\frac{1}{\\sqrt{2}}\n",
        "  \\begin{bmatrix}\n",
        "  1 & 1 \\\\\n",
        "  1 & -1\n",
        "  \\end{bmatrix}\n",
        "  $$\n",
        "\n",
        "- **Pauli-X Gate (NOT):**\n",
        "  $$\n",
        "  X =\n",
        "  \\begin{bmatrix}\n",
        "  0 & 1 \\\\\n",
        "  1 & 0\n",
        "  \\end{bmatrix}\n",
        "  $$\n"
      ],
      "metadata": {
        "id": "mRA8uBuR53cu"
      }
    },
    {
      "cell_type": "code",
      "source": [
        "import random\n",
        "import pandas as pd\n",
        "\n",
        "# Generate random bits\n",
        "def generate_random_bits(n):\n",
        "    return [random.randint(0, 1) for _ in range(n)]\n",
        "\n",
        "# Generate random bases (Z or X)\n",
        "def generate_random_bases(n):\n",
        "    return [random.choice(['Z', 'X']) for _ in range(n)]\n",
        "\n",
        "# Encode qubits based on bits and bases\n",
        "def encode_qubits(bits, bases):\n",
        "    encoded = []\n",
        "    for bit, basis in zip(bits, bases):\n",
        "        if basis == 'Z':\n",
        "            encoded.append('|0>' if bit == 0 else '|1>')\n",
        "        else:\n",
        "            encoded.append('|+>' if bit == 0 else '|->')\n",
        "    return encoded\n",
        "\n",
        "# Simulate measurement\n",
        "def measure_qubits(encoded_qubits, measurement_bases):\n",
        "    results = []\n",
        "    for qubit, basis in zip(encoded_qubits, measurement_bases):\n",
        "        if basis == 'Z':\n",
        "            if qubit in ['|0>', '|+>']:\n",
        "                results.append(0)\n",
        "            else:\n",
        "                results.append(1)\n",
        "        else:\n",
        "            if qubit in ['|+>', '|0>']:\n",
        "                results.append(0)\n",
        "            else:\n",
        "                results.append(1)\n",
        "    return results\n",
        "\n",
        "# Number of bits\n",
        "n_bits = 10\n",
        "\n",
        "# Alice's data\n",
        "alice_bits = generate_random_bits(n_bits)\n",
        "alice_bases = generate_random_bases(n_bits)\n",
        "encoded_qubits = encode_qubits(alice_bits, alice_bases)\n",
        "\n",
        "# Bob's data\n",
        "bob_bases = generate_random_bases(n_bits)\n",
        "bob_results = measure_qubits(encoded_qubits, bob_bases)\n",
        "\n",
        "# Create DataFrame\n",
        "df = pd.DataFrame({\n",
        "    \"Alice's Bit\": alice_bits,\n",
        "    \"Alice's Basis\": alice_bases,\n",
        "    \"Encoded Qubit\": encoded_qubits,\n",
        "    \"Bob's Basis\": bob_bases,\n",
        "    \"Bob's Result\": bob_results,\n",
        "    \"Basis Match?\": [\"✅\" if ab == bb else \"❌\" for ab, bb in zip(alice_bases, bob_bases)],\n",
        "    \"Bit Match?\": [\"✅\" if (ab == bb and a_bit == b_res) else \"❌\"\n",
        "                   for a_bit, b_res, ab, bb in zip(alice_bits, bob_results, alice_bases, bob_bases)]\n",
        "})\n",
        "\n",
        "# Sifted key\n",
        "sifted_key = [a_bit for a_bit, ab, bb in zip(alice_bits, alice_bases, bob_bases) if ab == bb]\n",
        "\n",
        "# Clean table styling (no bg colors, just symbols)\n",
        "def plain_style(val):\n",
        "    return \"\"  # No styling\n",
        "\n",
        "df_styled = df.style.map(plain_style, subset=[\"Basis Match?\", \"Bit Match?\"])\n",
        "\n",
        "# Display\n",
        "display(df_styled)\n",
        "print(\"\\nSifted Key:\", sifted_key)\n",
        "\n"
      ],
      "metadata": {
        "collapsed": true,
        "id": "OfNkBAUf5b7t"
      },
      "execution_count": null,
      "outputs": []
    },
    {
      "cell_type": "markdown",
      "source": [
        "## *Final Agreed Key (After Sifting)*\n",
        "The sifted key is generated by keeping only the bits where Alice and Bob used the same basis.  \n",
        "This forms the secure key for encryption.\n"
      ],
      "metadata": {
        "id": "Z_NnPqWb5tkI"
      }
    }
  ]
}